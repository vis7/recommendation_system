{
  "nbformat": 4,
  "nbformat_minor": 0,
  "metadata": {
    "colab": {
      "name": "movie_recommendation_system.ipynb",
      "provenance": [],
      "collapsed_sections": [],
      "include_colab_link": true
    },
    "kernelspec": {
      "name": "python3",
      "display_name": "Python 3"
    },
    "language_info": {
      "name": "python"
    },
    "accelerator": "GPU"
  },
  "cells": [
    {
      "cell_type": "markdown",
      "metadata": {
        "id": "view-in-github",
        "colab_type": "text"
      },
      "source": [
        "<a href=\"https://colab.research.google.com/github/vis7/recommendation_system/blob/main/tensorflow_recommender_tutorial/movie_recommendation_system.ipynb\" target=\"_parent\"><img src=\"https://colab.research.google.com/assets/colab-badge.svg\" alt=\"Open In Colab\"/></a>"
      ]
    },
    {
      "cell_type": "code",
      "metadata": {
        "colab": {
          "base_uri": "https://localhost:8080/"
        },
        "id": "bLthMCNa0Bug",
        "outputId": "35d8646b-9239-48ad-a547-150486265626"
      },
      "source": [
        "# installation\n",
        "!pip install -q tensorflow-recommenders\n",
        "!pip install -q --upgrade tensorflow-datasets"
      ],
      "execution_count": 1,
      "outputs": [
        {
          "output_type": "stream",
          "name": "stdout",
          "text": [
            "\u001b[K     |████████████████████████████████| 85 kB 2.8 MB/s \n",
            "\u001b[K     |████████████████████████████████| 4.0 MB 5.4 MB/s \n",
            "\u001b[?25h"
          ]
        }
      ]
    },
    {
      "cell_type": "code",
      "metadata": {
        "id": "QBpJzkxr0RP8"
      },
      "source": [
        "from typing import Dict, Text\n",
        "\n",
        "import numpy as np\n",
        "import tensorflow as tf\n",
        "\n",
        "import tensorflow_datasets as tfds\n",
        "import tensorflow_recommenders as tfrs"
      ],
      "execution_count": 2,
      "outputs": []
    },
    {
      "cell_type": "markdown",
      "metadata": {
        "id": "3fJ3PJcPD-6w"
      },
      "source": [
        "Below we are loading two diffrent part of the same dataset so we can get info with any of the part (ratings or movies)"
      ]
    },
    {
      "cell_type": "code",
      "metadata": {
        "id": "48k-XZYR0SVz"
      },
      "source": [
        "# loading data\n",
        "ratings, ratings_info = tfds.load('movielens/100k-ratings', split='train', with_info=True)\n",
        "movies, movies_info = tfds.load('movielens/100k-movies', split='train', with_info=True)"
      ],
      "execution_count": 22,
      "outputs": []
    },
    {
      "cell_type": "code",
      "metadata": {
        "id": "peNEHFS76x2C",
        "colab": {
          "base_uri": "https://localhost:8080/"
        },
        "outputId": "7ea1fa24-e0a0-4612-a099-f75ce339605a"
      },
      "source": [
        "# printing basic details about dataset\n",
        "print('movies info')\n",
        "print(movies_info)"
      ],
      "execution_count": 23,
      "outputs": [
        {
          "output_type": "stream",
          "name": "stdout",
          "text": [
            "movies info\n",
            "tfds.core.DatasetInfo(\n",
            "    name='movielens',\n",
            "    full_name='movielens/100k-movies/0.1.0',\n",
            "    description=\"\"\"\n",
            "    This dataset contains a set of movie ratings from the MovieLens website, a movie\n",
            "    recommendation service. This dataset was collected and maintained by [GroupLens]\n",
            "    (https://grouplens.org/), a research group at the University of Minnesota. There\n",
            "    are 5 versions included: \"25m\", \"latest-small\", \"100k\", \"1m\", \"20m\". In all\n",
            "    datasets, the movies data and ratings data are joined on \"movieId\". The 25m\n",
            "    dataset, latest-small dataset, and 20m dataset contain only movie data and\n",
            "    rating data. The 1m dataset and 100k dataset contain demographic data in\n",
            "    addition to movie and rating data.\n",
            "    \n",
            "    - \"25m\": This is the latest stable version of the MovieLens dataset. It is\n",
            "    recommended for research purposes.\n",
            "    - \"latest-small\": This is a small subset of the latest version of the MovieLens\n",
            "    dataset. It is changed and updated over time by GroupLens.\n",
            "    - \"100k\": This is the oldest version of the MovieLens datasets. It is a small\n",
            "    dataset with demographic data.\n",
            "    - \"1m\": This is the largest MovieLens dataset that contains demographic data.\n",
            "    - \"20m\": This is one of the most used MovieLens datasets in academic papers\n",
            "    along with the 1m dataset.\n",
            "    \n",
            "    For each version, users can view either only the movies data by adding the\n",
            "    \"-movies\" suffix (e.g. \"25m-movies\") or the ratings data joined with the movies\n",
            "    data (and users data in the 1m and 100k datasets) by adding the \"-ratings\"\n",
            "    suffix (e.g. \"25m-ratings\").\n",
            "    \n",
            "    The features below are included in all versions with the \"-ratings\" suffix.\n",
            "    \n",
            "    - \"movie_id\": a unique identifier of the rated movie\n",
            "    - \"movie_title\": the title of the rated movie with the release year in\n",
            "    parentheses\n",
            "    - \"movie_genres\": a sequence of genres to which the rated movie belongs\n",
            "    - \"user_id\": a unique identifier of the user who made the rating\n",
            "    - \"user_rating\": the score of the rating on a five-star scale\n",
            "    - \"timestamp\": the timestamp of the ratings, represented in seconds since\n",
            "    midnight Coordinated Universal Time (UTC) of January 1, 1970\n",
            "    \n",
            "    The \"100k-ratings\" and \"1m-ratings\" versions in addition include the following\n",
            "    demographic features.\n",
            "    \n",
            "    - \"user_gender\": gender of the user who made the rating; a true value\n",
            "    corresponds to male\n",
            "    - \"bucketized_user_age\": bucketized age values of the user who made the rating,\n",
            "    the values and the corresponding ranges are:\n",
            "      - 1: \"Under 18\"\n",
            "      - 18: \"18-24\"\n",
            "      - 25: \"25-34\"\n",
            "      - 35: \"35-44\"\n",
            "      - 45: \"45-49\"\n",
            "      - 50: \"50-55\"\n",
            "      - 56: \"56+\"\n",
            "    - \"user_occupation_label\": the occupation of the user who made the rating\n",
            "    represented by an integer-encoded label; labels are preprocessed to be\n",
            "    consistent across different versions\n",
            "    - \"user_occupation_text\": the occupation of the user who made the rating in\n",
            "    the original string; different versions can have different set of raw text\n",
            "    labels\n",
            "    - \"user_zip_code\": the zip code of the user who made the rating\n",
            "    \n",
            "    In addition, the \"100k-ratings\" dataset would also have a feature \"raw_user_age\"\n",
            "    which is the exact ages of the users who made the rating\n",
            "    \n",
            "    Datasets with the \"-movies\" suffix contain only \"movie_id\", \"movie_title\", and\n",
            "    \"movie_genres\" features.\n",
            "    \"\"\",\n",
            "    config_description=\"\"\"\n",
            "    This dataset contains data of 1,682 movies rated in the 100k\n",
            "    dataset.\n",
            "    \"\"\",\n",
            "    homepage='https://grouplens.org/datasets/movielens/',\n",
            "    data_path='/root/tensorflow_datasets/movielens/100k-movies/0.1.0',\n",
            "    download_size=4.70 MiB,\n",
            "    dataset_size=150.35 KiB,\n",
            "    features=FeaturesDict({\n",
            "        'movie_genres': Sequence(ClassLabel(shape=(), dtype=tf.int64, num_classes=21)),\n",
            "        'movie_id': tf.string,\n",
            "        'movie_title': tf.string,\n",
            "    }),\n",
            "    supervised_keys=None,\n",
            "    disable_shuffling=False,\n",
            "    splits={\n",
            "        'train': <SplitInfo num_examples=1682, num_shards=1>,\n",
            "    },\n",
            "    citation=\"\"\"@article{10.1145/2827872,\n",
            "    author = {Harper, F. Maxwell and Konstan, Joseph A.},\n",
            "    title = {The MovieLens Datasets: History and Context},\n",
            "    year = {2015},\n",
            "    issue_date = {January 2016},\n",
            "    publisher = {Association for Computing Machinery},\n",
            "    address = {New York, NY, USA},\n",
            "    volume = {5},\n",
            "    number = {4},\n",
            "    issn = {2160-6455},\n",
            "    url = {https://doi.org/10.1145/2827872},\n",
            "    doi = {10.1145/2827872},\n",
            "    journal = {ACM Trans. Interact. Intell. Syst.},\n",
            "    month = dec,\n",
            "    articleno = {19},\n",
            "    numpages = {19},\n",
            "    keywords = {Datasets, recommendations, ratings, MovieLens}\n",
            "    }\"\"\",\n",
            ")\n"
          ]
        }
      ]
    },
    {
      "cell_type": "code",
      "metadata": {
        "colab": {
          "base_uri": "https://localhost:8080/",
          "height": 183
        },
        "id": "mtB7QFfWEVZC",
        "outputId": "221aa8bf-b0c1-4196-ff09-6f4c159b46e0"
      },
      "source": [
        "# showing some examples from the dataset\n",
        "# when passing info then it show categorical variable alogn with it's respective integer representation\n",
        "tfds.as_dataframe(ratings.take(4), ratings_info)"
      ],
      "execution_count": 24,
      "outputs": [
        {
          "output_type": "execute_result",
          "data": {
            "text/html": [
              "<style  type=\"text/css\" >\n",
              "</style><table id=\"T_434577fe_3b00_11ec_a0d8_0242ac1c0002\" ><thead>    <tr>        <th class=\"blank level0\" ></th>        <th class=\"col_heading level0 col0\" >bucketized_user_age</th>        <th class=\"col_heading level0 col1\" >movie_genres</th>        <th class=\"col_heading level0 col2\" >movie_id</th>        <th class=\"col_heading level0 col3\" >movie_title</th>        <th class=\"col_heading level0 col4\" >raw_user_age</th>        <th class=\"col_heading level0 col5\" >timestamp</th>        <th class=\"col_heading level0 col6\" >user_gender</th>        <th class=\"col_heading level0 col7\" >user_id</th>        <th class=\"col_heading level0 col8\" >user_occupation_label</th>        <th class=\"col_heading level0 col9\" >user_occupation_text</th>        <th class=\"col_heading level0 col10\" >user_rating</th>        <th class=\"col_heading level0 col11\" >user_zip_code</th>    </tr></thead><tbody>\n",
              "                <tr>\n",
              "                        <th id=\"T_434577fe_3b00_11ec_a0d8_0242ac1c0002level0_row0\" class=\"row_heading level0 row0\" >0</th>\n",
              "                        <td id=\"T_434577fe_3b00_11ec_a0d8_0242ac1c0002row0_col0\" class=\"data row0 col0\" >45.0</td>\n",
              "                        <td id=\"T_434577fe_3b00_11ec_a0d8_0242ac1c0002row0_col1\" class=\"data row0 col1\" ><div style=\"overflow-y: scroll; max-height: 300px;\" >7 (Drama)</div></td>\n",
              "                        <td id=\"T_434577fe_3b00_11ec_a0d8_0242ac1c0002row0_col2\" class=\"data row0 col2\" >b&#x27;357&#x27;</td>\n",
              "                        <td id=\"T_434577fe_3b00_11ec_a0d8_0242ac1c0002row0_col3\" class=\"data row0 col3\" >b&quot;One Flew Over the Cuckoo&#x27;s Nest (1975)&quot;</td>\n",
              "                        <td id=\"T_434577fe_3b00_11ec_a0d8_0242ac1c0002row0_col4\" class=\"data row0 col4\" >46.0</td>\n",
              "                        <td id=\"T_434577fe_3b00_11ec_a0d8_0242ac1c0002row0_col5\" class=\"data row0 col5\" >879024327</td>\n",
              "                        <td id=\"T_434577fe_3b00_11ec_a0d8_0242ac1c0002row0_col6\" class=\"data row0 col6\" >True</td>\n",
              "                        <td id=\"T_434577fe_3b00_11ec_a0d8_0242ac1c0002row0_col7\" class=\"data row0 col7\" >b&#x27;138&#x27;</td>\n",
              "                        <td id=\"T_434577fe_3b00_11ec_a0d8_0242ac1c0002row0_col8\" class=\"data row0 col8\" >4 (doctor/health care)</td>\n",
              "                        <td id=\"T_434577fe_3b00_11ec_a0d8_0242ac1c0002row0_col9\" class=\"data row0 col9\" >b&#x27;doctor&#x27;</td>\n",
              "                        <td id=\"T_434577fe_3b00_11ec_a0d8_0242ac1c0002row0_col10\" class=\"data row0 col10\" >4.0</td>\n",
              "                        <td id=\"T_434577fe_3b00_11ec_a0d8_0242ac1c0002row0_col11\" class=\"data row0 col11\" >b&#x27;53211&#x27;</td>\n",
              "            </tr>\n",
              "            <tr>\n",
              "                        <th id=\"T_434577fe_3b00_11ec_a0d8_0242ac1c0002level0_row1\" class=\"row_heading level0 row1\" >1</th>\n",
              "                        <td id=\"T_434577fe_3b00_11ec_a0d8_0242ac1c0002row1_col0\" class=\"data row1 col0\" >25.0</td>\n",
              "                        <td id=\"T_434577fe_3b00_11ec_a0d8_0242ac1c0002row1_col1\" class=\"data row1 col1\" ><div style=\"overflow-y: scroll; max-height: 300px;\" >4 (Comedy)<br/>14 (Romance)</div></td>\n",
              "                        <td id=\"T_434577fe_3b00_11ec_a0d8_0242ac1c0002row1_col2\" class=\"data row1 col2\" >b&#x27;709&#x27;</td>\n",
              "                        <td id=\"T_434577fe_3b00_11ec_a0d8_0242ac1c0002row1_col3\" class=\"data row1 col3\" >b&#x27;Strictly Ballroom (1992)&#x27;</td>\n",
              "                        <td id=\"T_434577fe_3b00_11ec_a0d8_0242ac1c0002row1_col4\" class=\"data row1 col4\" >32.0</td>\n",
              "                        <td id=\"T_434577fe_3b00_11ec_a0d8_0242ac1c0002row1_col5\" class=\"data row1 col5\" >875654590</td>\n",
              "                        <td id=\"T_434577fe_3b00_11ec_a0d8_0242ac1c0002row1_col6\" class=\"data row1 col6\" >True</td>\n",
              "                        <td id=\"T_434577fe_3b00_11ec_a0d8_0242ac1c0002row1_col7\" class=\"data row1 col7\" >b&#x27;92&#x27;</td>\n",
              "                        <td id=\"T_434577fe_3b00_11ec_a0d8_0242ac1c0002row1_col8\" class=\"data row1 col8\" >5 (entertainment)</td>\n",
              "                        <td id=\"T_434577fe_3b00_11ec_a0d8_0242ac1c0002row1_col9\" class=\"data row1 col9\" >b&#x27;entertainment&#x27;</td>\n",
              "                        <td id=\"T_434577fe_3b00_11ec_a0d8_0242ac1c0002row1_col10\" class=\"data row1 col10\" >2.0</td>\n",
              "                        <td id=\"T_434577fe_3b00_11ec_a0d8_0242ac1c0002row1_col11\" class=\"data row1 col11\" >b&#x27;80525&#x27;</td>\n",
              "            </tr>\n",
              "            <tr>\n",
              "                        <th id=\"T_434577fe_3b00_11ec_a0d8_0242ac1c0002level0_row2\" class=\"row_heading level0 row2\" >2</th>\n",
              "                        <td id=\"T_434577fe_3b00_11ec_a0d8_0242ac1c0002row2_col0\" class=\"data row2 col0\" >18.0</td>\n",
              "                        <td id=\"T_434577fe_3b00_11ec_a0d8_0242ac1c0002row2_col1\" class=\"data row2 col1\" ><div style=\"overflow-y: scroll; max-height: 300px;\" >4 (Comedy)</div></td>\n",
              "                        <td id=\"T_434577fe_3b00_11ec_a0d8_0242ac1c0002row2_col2\" class=\"data row2 col2\" >b&#x27;412&#x27;</td>\n",
              "                        <td id=\"T_434577fe_3b00_11ec_a0d8_0242ac1c0002row2_col3\" class=\"data row2 col3\" >b&#x27;Very Brady Sequel, A (1996)&#x27;</td>\n",
              "                        <td id=\"T_434577fe_3b00_11ec_a0d8_0242ac1c0002row2_col4\" class=\"data row2 col4\" >24.0</td>\n",
              "                        <td id=\"T_434577fe_3b00_11ec_a0d8_0242ac1c0002row2_col5\" class=\"data row2 col5\" >882075110</td>\n",
              "                        <td id=\"T_434577fe_3b00_11ec_a0d8_0242ac1c0002row2_col6\" class=\"data row2 col6\" >True</td>\n",
              "                        <td id=\"T_434577fe_3b00_11ec_a0d8_0242ac1c0002row2_col7\" class=\"data row2 col7\" >b&#x27;301&#x27;</td>\n",
              "                        <td id=\"T_434577fe_3b00_11ec_a0d8_0242ac1c0002row2_col8\" class=\"data row2 col8\" >17 (student)</td>\n",
              "                        <td id=\"T_434577fe_3b00_11ec_a0d8_0242ac1c0002row2_col9\" class=\"data row2 col9\" >b&#x27;student&#x27;</td>\n",
              "                        <td id=\"T_434577fe_3b00_11ec_a0d8_0242ac1c0002row2_col10\" class=\"data row2 col10\" >4.0</td>\n",
              "                        <td id=\"T_434577fe_3b00_11ec_a0d8_0242ac1c0002row2_col11\" class=\"data row2 col11\" >b&#x27;55439&#x27;</td>\n",
              "            </tr>\n",
              "            <tr>\n",
              "                        <th id=\"T_434577fe_3b00_11ec_a0d8_0242ac1c0002level0_row3\" class=\"row_heading level0 row3\" >3</th>\n",
              "                        <td id=\"T_434577fe_3b00_11ec_a0d8_0242ac1c0002row3_col0\" class=\"data row3 col0\" >50.0</td>\n",
              "                        <td id=\"T_434577fe_3b00_11ec_a0d8_0242ac1c0002row3_col1\" class=\"data row3 col1\" ><div style=\"overflow-y: scroll; max-height: 300px;\" >5 (Crime)<br/>7 (Drama)</div></td>\n",
              "                        <td id=\"T_434577fe_3b00_11ec_a0d8_0242ac1c0002row3_col2\" class=\"data row3 col2\" >b&#x27;56&#x27;</td>\n",
              "                        <td id=\"T_434577fe_3b00_11ec_a0d8_0242ac1c0002row3_col3\" class=\"data row3 col3\" >b&#x27;Pulp Fiction (1994)&#x27;</td>\n",
              "                        <td id=\"T_434577fe_3b00_11ec_a0d8_0242ac1c0002row3_col4\" class=\"data row3 col4\" >50.0</td>\n",
              "                        <td id=\"T_434577fe_3b00_11ec_a0d8_0242ac1c0002row3_col5\" class=\"data row3 col5\" >883326919</td>\n",
              "                        <td id=\"T_434577fe_3b00_11ec_a0d8_0242ac1c0002row3_col6\" class=\"data row3 col6\" >True</td>\n",
              "                        <td id=\"T_434577fe_3b00_11ec_a0d8_0242ac1c0002row3_col7\" class=\"data row3 col7\" >b&#x27;60&#x27;</td>\n",
              "                        <td id=\"T_434577fe_3b00_11ec_a0d8_0242ac1c0002row3_col8\" class=\"data row3 col8\" >4 (doctor/health care)</td>\n",
              "                        <td id=\"T_434577fe_3b00_11ec_a0d8_0242ac1c0002row3_col9\" class=\"data row3 col9\" >b&#x27;healthcare&#x27;</td>\n",
              "                        <td id=\"T_434577fe_3b00_11ec_a0d8_0242ac1c0002row3_col10\" class=\"data row3 col10\" >4.0</td>\n",
              "                        <td id=\"T_434577fe_3b00_11ec_a0d8_0242ac1c0002row3_col11\" class=\"data row3 col11\" >b&#x27;06472&#x27;</td>\n",
              "            </tr>\n",
              "    </tbody></table>"
            ],
            "text/plain": [
              "   bucketized_user_age movie_genres  ... user_rating user_zip_code\n",
              "0                 45.0          [7]  ...         4.0      b'53211'\n",
              "1                 25.0      [4, 14]  ...         2.0      b'80525'\n",
              "2                 18.0          [4]  ...         4.0      b'55439'\n",
              "3                 50.0       [5, 7]  ...         4.0      b'06472'\n",
              "\n",
              "[4 rows x 12 columns]"
            ]
          },
          "metadata": {},
          "execution_count": 24
        }
      ]
    },
    {
      "cell_type": "code",
      "metadata": {
        "colab": {
          "base_uri": "https://localhost:8080/",
          "height": 150
        },
        "id": "fTvBWfVyEwUL",
        "outputId": "4120990b-1d4b-4405-e37c-8984e61891bf"
      },
      "source": [
        "tfds.as_dataframe(movies.take(4), movies_info)"
      ],
      "execution_count": 25,
      "outputs": [
        {
          "output_type": "execute_result",
          "data": {
            "text/html": [
              "<style  type=\"text/css\" >\n",
              "</style><table id=\"T_43baca90_3b00_11ec_a0d8_0242ac1c0002\" ><thead>    <tr>        <th class=\"blank level0\" ></th>        <th class=\"col_heading level0 col0\" >movie_genres</th>        <th class=\"col_heading level0 col1\" >movie_id</th>        <th class=\"col_heading level0 col2\" >movie_title</th>    </tr></thead><tbody>\n",
              "                <tr>\n",
              "                        <th id=\"T_43baca90_3b00_11ec_a0d8_0242ac1c0002level0_row0\" class=\"row_heading level0 row0\" >0</th>\n",
              "                        <td id=\"T_43baca90_3b00_11ec_a0d8_0242ac1c0002row0_col0\" class=\"data row0 col0\" ><div style=\"overflow-y: scroll; max-height: 300px;\" >4 (Comedy)</div></td>\n",
              "                        <td id=\"T_43baca90_3b00_11ec_a0d8_0242ac1c0002row0_col1\" class=\"data row0 col1\" >b&#x27;1681&#x27;</td>\n",
              "                        <td id=\"T_43baca90_3b00_11ec_a0d8_0242ac1c0002row0_col2\" class=\"data row0 col2\" >b&#x27;You So Crazy (1994)&#x27;</td>\n",
              "            </tr>\n",
              "            <tr>\n",
              "                        <th id=\"T_43baca90_3b00_11ec_a0d8_0242ac1c0002level0_row1\" class=\"row_heading level0 row1\" >1</th>\n",
              "                        <td id=\"T_43baca90_3b00_11ec_a0d8_0242ac1c0002row1_col0\" class=\"data row1 col0\" ><div style=\"overflow-y: scroll; max-height: 300px;\" >4 (Comedy)<br/>7 (Drama)</div></td>\n",
              "                        <td id=\"T_43baca90_3b00_11ec_a0d8_0242ac1c0002row1_col1\" class=\"data row1 col1\" >b&#x27;1457&#x27;</td>\n",
              "                        <td id=\"T_43baca90_3b00_11ec_a0d8_0242ac1c0002row1_col2\" class=\"data row1 col2\" >b&#x27;Love Is All There Is (1996)&#x27;</td>\n",
              "            </tr>\n",
              "            <tr>\n",
              "                        <th id=\"T_43baca90_3b00_11ec_a0d8_0242ac1c0002level0_row2\" class=\"row_heading level0 row2\" >2</th>\n",
              "                        <td id=\"T_43baca90_3b00_11ec_a0d8_0242ac1c0002row2_col0\" class=\"data row2 col0\" ><div style=\"overflow-y: scroll; max-height: 300px;\" >1 (Adventure)<br/>3 (Children)</div></td>\n",
              "                        <td id=\"T_43baca90_3b00_11ec_a0d8_0242ac1c0002row2_col1\" class=\"data row2 col1\" >b&#x27;500&#x27;</td>\n",
              "                        <td id=\"T_43baca90_3b00_11ec_a0d8_0242ac1c0002row2_col2\" class=\"data row2 col2\" >b&#x27;Fly Away Home (1996)&#x27;</td>\n",
              "            </tr>\n",
              "            <tr>\n",
              "                        <th id=\"T_43baca90_3b00_11ec_a0d8_0242ac1c0002level0_row3\" class=\"row_heading level0 row3\" >3</th>\n",
              "                        <td id=\"T_43baca90_3b00_11ec_a0d8_0242ac1c0002row3_col0\" class=\"data row3 col0\" ><div style=\"overflow-y: scroll; max-height: 300px;\" >0 (Action)</div></td>\n",
              "                        <td id=\"T_43baca90_3b00_11ec_a0d8_0242ac1c0002row3_col1\" class=\"data row3 col1\" >b&#x27;838&#x27;</td>\n",
              "                        <td id=\"T_43baca90_3b00_11ec_a0d8_0242ac1c0002row3_col2\" class=\"data row3 col2\" >b&#x27;In the Line of Duty 2 (1987)&#x27;</td>\n",
              "            </tr>\n",
              "    </tbody></table>"
            ],
            "text/plain": [
              "  movie_genres movie_id                      movie_title\n",
              "0          [4]  b'1681'           b'You So Crazy (1994)'\n",
              "1       [4, 7]  b'1457'   b'Love Is All There Is (1996)'\n",
              "2       [1, 3]   b'500'          b'Fly Away Home (1996)'\n",
              "3          [0]   b'838'  b'In the Line of Duty 2 (1987)'"
            ]
          },
          "metadata": {},
          "execution_count": 25
        }
      ]
    },
    {
      "cell_type": "code",
      "metadata": {
        "id": "3-ZN7bQVE-7w"
      },
      "source": [
        "# selecting basic feature\n",
        "ratings = ratings.map(lambda x:{\n",
        "    'movie_title': x['movie_title'],\n",
        "    'user_id': x['user_id']\n",
        "})\n",
        "\n",
        "movies = movies.map(lambda x: x['movie_title'])"
      ],
      "execution_count": 26,
      "outputs": []
    },
    {
      "cell_type": "markdown",
      "metadata": {
        "id": "33OkJREEG9eL"
      },
      "source": [
        "After selecting only necessory features"
      ]
    },
    {
      "cell_type": "code",
      "metadata": {
        "colab": {
          "base_uri": "https://localhost:8080/",
          "height": 116
        },
        "id": "7xDk6g8uG0hq",
        "outputId": "a3bbb1f1-8681-4448-c100-8fc5d86fd80c"
      },
      "source": [
        "tfds.as_dataframe(ratings.take(4), ratings_info)"
      ],
      "execution_count": 30,
      "outputs": [
        {
          "output_type": "execute_result",
          "data": {
            "text/html": [
              "<style  type=\"text/css\" >\n",
              "</style><table id=\"T_2aa57cca_3b01_11ec_a0d8_0242ac1c0002\" ><thead>    <tr>        <th class=\"blank level0\" ></th>        <th class=\"col_heading level0 col0\" >movie_title</th>        <th class=\"col_heading level0 col1\" >user_id</th>    </tr></thead><tbody>\n",
              "                <tr>\n",
              "                        <th id=\"T_2aa57cca_3b01_11ec_a0d8_0242ac1c0002level0_row0\" class=\"row_heading level0 row0\" >0</th>\n",
              "                        <td id=\"T_2aa57cca_3b01_11ec_a0d8_0242ac1c0002row0_col0\" class=\"data row0 col0\" >b&quot;One Flew Over the Cuckoo&#x27;s Nest (1975)&quot;</td>\n",
              "                        <td id=\"T_2aa57cca_3b01_11ec_a0d8_0242ac1c0002row0_col1\" class=\"data row0 col1\" >b&#x27;138&#x27;</td>\n",
              "            </tr>\n",
              "            <tr>\n",
              "                        <th id=\"T_2aa57cca_3b01_11ec_a0d8_0242ac1c0002level0_row1\" class=\"row_heading level0 row1\" >1</th>\n",
              "                        <td id=\"T_2aa57cca_3b01_11ec_a0d8_0242ac1c0002row1_col0\" class=\"data row1 col0\" >b&#x27;Strictly Ballroom (1992)&#x27;</td>\n",
              "                        <td id=\"T_2aa57cca_3b01_11ec_a0d8_0242ac1c0002row1_col1\" class=\"data row1 col1\" >b&#x27;92&#x27;</td>\n",
              "            </tr>\n",
              "            <tr>\n",
              "                        <th id=\"T_2aa57cca_3b01_11ec_a0d8_0242ac1c0002level0_row2\" class=\"row_heading level0 row2\" >2</th>\n",
              "                        <td id=\"T_2aa57cca_3b01_11ec_a0d8_0242ac1c0002row2_col0\" class=\"data row2 col0\" >b&#x27;Very Brady Sequel, A (1996)&#x27;</td>\n",
              "                        <td id=\"T_2aa57cca_3b01_11ec_a0d8_0242ac1c0002row2_col1\" class=\"data row2 col1\" >b&#x27;301&#x27;</td>\n",
              "            </tr>\n",
              "            <tr>\n",
              "                        <th id=\"T_2aa57cca_3b01_11ec_a0d8_0242ac1c0002level0_row3\" class=\"row_heading level0 row3\" >3</th>\n",
              "                        <td id=\"T_2aa57cca_3b01_11ec_a0d8_0242ac1c0002row3_col0\" class=\"data row3 col0\" >b&#x27;Pulp Fiction (1994)&#x27;</td>\n",
              "                        <td id=\"T_2aa57cca_3b01_11ec_a0d8_0242ac1c0002row3_col1\" class=\"data row3 col1\" >b&#x27;60&#x27;</td>\n",
              "            </tr>\n",
              "    </tbody></table>"
            ],
            "text/plain": [
              "                                 movie_title user_id\n",
              "0  b\"One Flew Over the Cuckoo's Nest (1975)\"  b'138'\n",
              "1                b'Strictly Ballroom (1992)'   b'92'\n",
              "2             b'Very Brady Sequel, A (1996)'  b'301'\n",
              "3                     b'Pulp Fiction (1994)'   b'60'"
            ]
          },
          "metadata": {},
          "execution_count": 30
        }
      ]
    },
    {
      "cell_type": "code",
      "metadata": {
        "colab": {
          "base_uri": "https://localhost:8080/",
          "height": 100
        },
        "id": "5ZkA7XUGG61U",
        "outputId": "2660306d-7d8f-4aff-f860-2c8929e8b81b"
      },
      "source": [
        "tfds.as_dataframe(movies.take(4), movies_info)"
      ],
      "execution_count": 31,
      "outputs": [
        {
          "output_type": "execute_result",
          "data": {
            "text/html": [
              "<style  type=\"text/css\" >\n",
              "</style><table id=\"T_2b0f2d46_3b01_11ec_a0d8_0242ac1c0002\" ><thead>    <tr>        <th class=\"blank level0\" ></th>        <th class=\"col_heading level0 col0\" ></th>    </tr></thead><tbody>\n",
              "                <tr>\n",
              "                        <th id=\"T_2b0f2d46_3b01_11ec_a0d8_0242ac1c0002level0_row0\" class=\"row_heading level0 row0\" >0</th>\n",
              "                        <td id=\"T_2b0f2d46_3b01_11ec_a0d8_0242ac1c0002row0_col0\" class=\"data row0 col0\" >b&#x27;You So Crazy (1994)&#x27;</td>\n",
              "            </tr>\n",
              "            <tr>\n",
              "                        <th id=\"T_2b0f2d46_3b01_11ec_a0d8_0242ac1c0002level0_row1\" class=\"row_heading level0 row1\" >1</th>\n",
              "                        <td id=\"T_2b0f2d46_3b01_11ec_a0d8_0242ac1c0002row1_col0\" class=\"data row1 col0\" >b&#x27;Love Is All There Is (1996)&#x27;</td>\n",
              "            </tr>\n",
              "            <tr>\n",
              "                        <th id=\"T_2b0f2d46_3b01_11ec_a0d8_0242ac1c0002level0_row2\" class=\"row_heading level0 row2\" >2</th>\n",
              "                        <td id=\"T_2b0f2d46_3b01_11ec_a0d8_0242ac1c0002row2_col0\" class=\"data row2 col0\" >b&#x27;Fly Away Home (1996)&#x27;</td>\n",
              "            </tr>\n",
              "            <tr>\n",
              "                        <th id=\"T_2b0f2d46_3b01_11ec_a0d8_0242ac1c0002level0_row3\" class=\"row_heading level0 row3\" >3</th>\n",
              "                        <td id=\"T_2b0f2d46_3b01_11ec_a0d8_0242ac1c0002row3_col0\" class=\"data row3 col0\" >b&#x27;In the Line of Duty 2 (1987)&#x27;</td>\n",
              "            </tr>\n",
              "    </tbody></table>"
            ],
            "text/plain": [
              "                                  \n",
              "0           b'You So Crazy (1994)'\n",
              "1   b'Love Is All There Is (1996)'\n",
              "2          b'Fly Away Home (1996)'\n",
              "3  b'In the Line of Duty 2 (1987)'"
            ]
          },
          "metadata": {},
          "execution_count": 31
        }
      ]
    },
    {
      "cell_type": "code",
      "metadata": {
        "id": "qDKLa78R0SR4"
      },
      "source": [
        "# creating integer indices from string lookup\n",
        "user_ids_vocabulary = tf.keras.layers.StringLookup(mask_token=None)\n",
        "user_ids_vocabulary.adapt(ratings.map(lambda x:x['user_id']))\n",
        "\n",
        "movie_title_vocabulary = tf.keras.layers.StringLookup(mask_token=None)\n",
        "movie_title_vocabulary.adapt(movies)"
      ],
      "execution_count": 29,
      "outputs": []
    },
    {
      "cell_type": "code",
      "metadata": {
        "colab": {
          "base_uri": "https://localhost:8080/"
        },
        "id": "Pk-ithe8HkSU",
        "outputId": "98a6bdaa-93ef-416b-855d-ba3ddca96afc"
      },
      "source": [
        "user_ids_vocabulary.get_vocabulary()[:5]"
      ],
      "execution_count": 35,
      "outputs": [
        {
          "output_type": "execute_result",
          "data": {
            "text/plain": [
              "['[UNK]', '405', '655', '13', '450']"
            ]
          },
          "metadata": {},
          "execution_count": 35
        }
      ]
    },
    {
      "cell_type": "code",
      "metadata": {
        "colab": {
          "base_uri": "https://localhost:8080/"
        },
        "id": "Kw0-h43_ItBB",
        "outputId": "ef80f885-6532-4632-fc69-24d52fa16521"
      },
      "source": [
        "movie_title_vocabulary.get_vocabulary()[:5]"
      ],
      "execution_count": 38,
      "outputs": [
        {
          "output_type": "execute_result",
          "data": {
            "text/plain": [
              "['[UNK]',\n",
              " \"Ulee's Gold (1997)\",\n",
              " 'That Darn Cat! (1997)',\n",
              " 'Substance of Fire, The (1996)',\n",
              " 'Sliding Doors (1998)']"
            ]
          },
          "metadata": {},
          "execution_count": 38
        }
      ]
    },
    {
      "cell_type": "code",
      "metadata": {
        "colab": {
          "base_uri": "https://localhost:8080/"
        },
        "id": "vs6VRhsnKFoT",
        "outputId": "f69d8e83-515a-4a6f-f1a8-e14233c48821"
      },
      "source": [
        "# using vocabulary and getting original records\n",
        "test_movies = ['That Darn Cat! (1997)', 'Substance of Fire, The (1996)']\n",
        "movie_title_vocabulary(test_movies) # you will get respective indexes"
      ],
      "execution_count": 39,
      "outputs": [
        {
          "output_type": "execute_result",
          "data": {
            "text/plain": [
              "<tf.Tensor: shape=(2,), dtype=int64, numpy=array([2, 3])>"
            ]
          },
          "metadata": {},
          "execution_count": 39
        }
      ]
    },
    {
      "cell_type": "code",
      "metadata": {
        "id": "tNRPKOLG0SPI"
      },
      "source": [
        "# definging a model\n",
        "class MovieLensModel(tfrs.Model):\n",
        "  def __init__(\n",
        "      self,\n",
        "      user_model: tf.keras.Model,\n",
        "      movie_model: tf.keras.Model,\n",
        "      task: tfrs.tasks.Retrieval\n",
        "  ):\n",
        "    super().__init__()\n",
        "    self.user_model = user_model\n",
        "    self.movie_model = movie_model\n",
        "    self.task = task\n",
        "  \n",
        "  def compute_loss(self, features: Dict[Text, tf.Tensor], training=False) -> tf.Tensor:\n",
        "    user_embeddings = self.user_model(features['user_id'])\n",
        "    movie_embeddings = self.movie_model(features['movie_title'])\n",
        "    return self.task(user_embeddings, movie_embeddings)"
      ],
      "execution_count": 42,
      "outputs": []
    },
    {
      "cell_type": "code",
      "metadata": {
        "colab": {
          "base_uri": "https://localhost:8080/"
        },
        "id": "5JJuLeZd0SMz",
        "outputId": "ee2cb5c0-1c09-4b34-9a08-3de03e50e56f"
      },
      "source": [
        "user_model = tf.keras.Sequential([\n",
        "    user_ids_vocabulary,\n",
        "    tf.keras.layers.Embedding(user_ids_vocabulary.vocab_size(), 64)\n",
        "])\n",
        "\n",
        "movie_model = tf.keras.Sequential([\n",
        "    movie_title_vocabulary,\n",
        "    tf.keras.layers.Embedding(movie_title_vocabulary.vocab_size(), 64)\n",
        "])\n",
        "\n",
        "task = tfrs.tasks.Retrieval(metrics=tfrs.metrics.FactorizedTopK(\n",
        "    movies.batch(128).map(movie_model)\n",
        "  )\n",
        ")"
      ],
      "execution_count": 43,
      "outputs": [
        {
          "output_type": "stream",
          "name": "stdout",
          "text": [
            "WARNING:tensorflow:vocab_size is deprecated, please use vocabulary_size.\n"
          ]
        },
        {
          "output_type": "stream",
          "name": "stderr",
          "text": [
            "WARNING:tensorflow:vocab_size is deprecated, please use vocabulary_size.\n"
          ]
        },
        {
          "output_type": "stream",
          "name": "stdout",
          "text": [
            "WARNING:tensorflow:vocab_size is deprecated, please use vocabulary_size.\n"
          ]
        },
        {
          "output_type": "stream",
          "name": "stderr",
          "text": [
            "WARNING:tensorflow:vocab_size is deprecated, please use vocabulary_size.\n"
          ]
        }
      ]
    },
    {
      "cell_type": "code",
      "metadata": {
        "id": "zxtPRn1r0SKB"
      },
      "source": [
        "# creating retrieval model\n",
        "model = MovieLensModel(user_model, movie_model, task)\n",
        "model.compile(optimizer=tf.keras.optimizers.Adagrad(0.5))"
      ],
      "execution_count": 44,
      "outputs": []
    },
    {
      "cell_type": "code",
      "metadata": {
        "colab": {
          "base_uri": "https://localhost:8080/"
        },
        "id": "8WGvLpOb0SHY",
        "outputId": "8d0be0ba-19bb-4c3a-986f-b0b38cf3af29"
      },
      "source": [
        "# train for 3 epochs\n",
        "model.fit(ratings.batch(4096), epochs=3)"
      ],
      "execution_count": 45,
      "outputs": [
        {
          "output_type": "stream",
          "name": "stdout",
          "text": [
            "Epoch 1/3\n",
            "25/25 [==============================] - 17s 558ms/step - factorized_top_k/top_1_categorical_accuracy: 9.0000e-05 - factorized_top_k/top_5_categorical_accuracy: 0.0016 - factorized_top_k/top_10_categorical_accuracy: 0.0052 - factorized_top_k/top_50_categorical_accuracy: 0.0450 - factorized_top_k/top_100_categorical_accuracy: 0.1000 - loss: 33107.5488 - regularization_loss: 0.0000e+00 - total_loss: 33107.5488\n",
            "Epoch 2/3\n",
            "25/25 [==============================] - 14s 561ms/step - factorized_top_k/top_1_categorical_accuracy: 1.4000e-04 - factorized_top_k/top_5_categorical_accuracy: 0.0052 - factorized_top_k/top_10_categorical_accuracy: 0.0148 - factorized_top_k/top_50_categorical_accuracy: 0.1057 - factorized_top_k/top_100_categorical_accuracy: 0.2113 - loss: 31008.3727 - regularization_loss: 0.0000e+00 - total_loss: 31008.3727\n",
            "Epoch 3/3\n",
            "25/25 [==============================] - 15s 577ms/step - factorized_top_k/top_1_categorical_accuracy: 3.2000e-04 - factorized_top_k/top_5_categorical_accuracy: 0.0082 - factorized_top_k/top_10_categorical_accuracy: 0.0227 - factorized_top_k/top_50_categorical_accuracy: 0.1443 - factorized_top_k/top_100_categorical_accuracy: 0.2681 - loss: 30417.9292 - regularization_loss: 0.0000e+00 - total_loss: 30417.9292\n"
          ]
        },
        {
          "output_type": "execute_result",
          "data": {
            "text/plain": [
              "<keras.callbacks.History at 0x7fb72f5c4090>"
            ]
          },
          "metadata": {},
          "execution_count": 45
        }
      ]
    },
    {
      "cell_type": "code",
      "metadata": {
        "colab": {
          "base_uri": "https://localhost:8080/"
        },
        "id": "MygsbqMr0SEw",
        "outputId": "d0e5be04-5d10-4f1a-8770-44f6f3c306a2"
      },
      "source": [
        "# use brute-force search to set up retrival using the trained representations\n",
        "index = tfrs.layers.factorized_top_k.BruteForce(model.user_model)\n",
        "index.index_from_dataset(\n",
        "    movies.batch(100).map(lambda title: (title, model.movie_model(title)))\n",
        ")"
      ],
      "execution_count": null,
      "outputs": [
        {
          "output_type": "execute_result",
          "data": {
            "text/plain": [
              "<tensorflow_recommenders.layers.factorized_top_k.BruteForce at 0x7f3a26d37290>"
            ]
          },
          "metadata": {},
          "execution_count": 12
        }
      ]
    },
    {
      "cell_type": "code",
      "metadata": {
        "colab": {
          "base_uri": "https://localhost:8080/"
        },
        "id": "Swe7v8Ix0R_j",
        "outputId": "a1a2fc00-43c4-41ad-c6d2-9176255e04d6"
      },
      "source": [
        "# getting some recommendations\n",
        "_, titles = index(np.array([\"42\"]))\n",
        "print(f\"top k recommendations for user 42: {titles[0,:3]}\")"
      ],
      "execution_count": null,
      "outputs": [
        {
          "output_type": "stream",
          "name": "stdout",
          "text": [
            "top k recommendations for user 42: [b'Rent-a-Kid (1995)' b'Just Cause (1995)' b'House Arrest (1996)']\n"
          ]
        }
      ]
    }
  ]
}