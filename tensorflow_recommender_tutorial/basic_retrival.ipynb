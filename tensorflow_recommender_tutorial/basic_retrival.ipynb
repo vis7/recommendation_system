{
  "nbformat": 4,
  "nbformat_minor": 0,
  "metadata": {
    "colab": {
      "name": "basic_retrival.ipynb",
      "provenance": [],
      "collapsed_sections": []
    },
    "kernelspec": {
      "name": "python3",
      "display_name": "Python 3"
    },
    "language_info": {
      "name": "python"
    }
  },
  "cells": [
    {
      "cell_type": "code",
      "metadata": {
        "id": "r5s3Qhvrai9U"
      },
      "source": [
        "# install\n",
        "!pip install -q tensorflow-recommenders\n",
        "!pip install -q --upgrade tensorflow-datasets"
      ],
      "execution_count": 1,
      "outputs": []
    },
    {
      "cell_type": "code",
      "metadata": {
        "id": "zro1zix0dBOz"
      },
      "source": [
        "# importing libraries\n",
        "import os\n",
        "import tempfile\n",
        "import pprint\n",
        "\n",
        "from typing import Dict, Text\n",
        "\n",
        "import numpy as np\n",
        "import tensorflow as tf\n",
        "\n",
        "import tensorflow_datasets as tfds\n",
        "import tensorflow_recommenders as tfrs"
      ],
      "execution_count": 2,
      "outputs": []
    },
    {
      "cell_type": "code",
      "metadata": {
        "id": "f1ICTukjdVSa"
      },
      "source": [
        "# loading datasets\n",
        "# since the MovieLens dataset does not have predefined splits, all data are under train split\n",
        "ratings = tfds.load(\"movielens/100k-ratings\", split=\"train\")\n",
        "movies = tfds.load(\"movielens/100k-movies\", split=\"train\")"
      ],
      "execution_count": 3,
      "outputs": []
    },
    {
      "cell_type": "code",
      "metadata": {
        "colab": {
          "base_uri": "https://localhost:8080/"
        },
        "id": "E8MY2veIeC2t",
        "outputId": "5b8a6769-f8da-4edf-9bc9-854795a33be0"
      },
      "source": [
        "# printing single movie\n",
        "for i in movies.take(1).as_numpy_iterator():\n",
        "  pprint.pprint(i)"
      ],
      "execution_count": 4,
      "outputs": [
        {
          "output_type": "stream",
          "name": "stdout",
          "text": [
            "{'movie_genres': array([4]),\n",
            " 'movie_id': b'1681',\n",
            " 'movie_title': b'You So Crazy (1994)'}\n"
          ]
        }
      ]
    },
    {
      "cell_type": "code",
      "metadata": {
        "colab": {
          "base_uri": "https://localhost:8080/"
        },
        "id": "kSxZkrjRyFpv",
        "outputId": "1c035e1c-9d3f-4585-ed08-f09baa685d02"
      },
      "source": [
        "# printing single rating\n",
        "for i in ratings.take(1).as_numpy_iterator():\n",
        "  pprint.pprint(i)"
      ],
      "execution_count": 5,
      "outputs": [
        {
          "output_type": "stream",
          "name": "stdout",
          "text": [
            "{'bucketized_user_age': 45.0,\n",
            " 'movie_genres': array([7]),\n",
            " 'movie_id': b'357',\n",
            " 'movie_title': b\"One Flew Over the Cuckoo's Nest (1975)\",\n",
            " 'raw_user_age': 46.0,\n",
            " 'timestamp': 879024327,\n",
            " 'user_gender': True,\n",
            " 'user_id': b'138',\n",
            " 'user_occupation_label': 4,\n",
            " 'user_occupation_text': b'doctor',\n",
            " 'user_rating': 4.0,\n",
            " 'user_zip_code': b'53211'}\n"
          ]
        }
      ]
    },
    {
      "cell_type": "code",
      "metadata": {
        "id": "4hpcXUY7fJgx"
      },
      "source": [
        "movies = movies.map(lambda x:x[\"movie_title\"])"
      ],
      "execution_count": 6,
      "outputs": []
    },
    {
      "cell_type": "code",
      "metadata": {
        "colab": {
          "base_uri": "https://localhost:8080/"
        },
        "id": "vWYmHqSFy0oA",
        "outputId": "5980f246-9625-411b-bd1a-b2bf523d897c"
      },
      "source": [
        "list(movies)[0]"
      ],
      "execution_count": 7,
      "outputs": [
        {
          "output_type": "execute_result",
          "data": {
            "text/plain": [
              "<tf.Tensor: shape=(), dtype=string, numpy=b'You So Crazy (1994)'>"
            ]
          },
          "metadata": {},
          "execution_count": 7
        }
      ]
    },
    {
      "cell_type": "code",
      "metadata": {
        "id": "livDqj2Nd2CG"
      },
      "source": [
        "# selecting the basic features\n",
        "ratings = ratings.map(lambda x: {\n",
        "    \"movie_title\": x[\"movie_title\"],\n",
        "    \"user_id\": x[\"user_id\"]\n",
        "})"
      ],
      "execution_count": 8,
      "outputs": []
    },
    {
      "cell_type": "code",
      "metadata": {
        "colab": {
          "base_uri": "https://localhost:8080/"
        },
        "id": "3ONK0sK6et4N",
        "outputId": "3b246e06-54ae-4000-e8aa-a6474460b484"
      },
      "source": [
        "list(ratings)[0]"
      ],
      "execution_count": 9,
      "outputs": [
        {
          "output_type": "execute_result",
          "data": {
            "text/plain": [
              "{'movie_title': <tf.Tensor: shape=(), dtype=string, numpy=b\"One Flew Over the Cuckoo's Nest (1975)\">,\n",
              " 'user_id': <tf.Tensor: shape=(), dtype=string, numpy=b'138'>}"
            ]
          },
          "metadata": {},
          "execution_count": 9
        }
      ]
    },
    {
      "cell_type": "code",
      "metadata": {
        "id": "oF9QP0yeeusL"
      },
      "source": [
        "# spliting data into training and evaluation set\n",
        "tf.random.set_seed(42)\n",
        "shuffled = ratings.shuffle(100_000, seed=42, reshuffle_each_iteration=True)\n",
        "\n",
        "train = shuffled.take(80_000)\n",
        "test = shuffled.skip(80_000).take(20_000)"
      ],
      "execution_count": 10,
      "outputs": []
    },
    {
      "cell_type": "code",
      "metadata": {
        "id": "c0OtG6lA1nlb"
      },
      "source": [
        "movie_titles = movies.batch(1_000)\n",
        "user_ids = ratings.batch(100_000).map(lambda x: x['user_id'])"
      ],
      "execution_count": 11,
      "outputs": []
    },
    {
      "cell_type": "code",
      "metadata": {
        "id": "oV2giD1917_R"
      },
      "source": [
        "unique_movie_titles = np.unique(np.concatenate(list(movie_titles)))\n",
        "unique_user_ids = np.unique(np.concatenate(list(user_ids)))"
      ],
      "execution_count": 12,
      "outputs": []
    },
    {
      "cell_type": "code",
      "metadata": {
        "colab": {
          "base_uri": "https://localhost:8080/"
        },
        "id": "v6durYBW2N6I",
        "outputId": "70b5998b-1858-4963-bb87-5637384eaa31"
      },
      "source": [
        "print(f'unique_movie_titles: {unique_movie_titles[:5]}')\n",
        "print(f'unique_user_ids: {unique_user_ids[:5]}')"
      ],
      "execution_count": 13,
      "outputs": [
        {
          "output_type": "stream",
          "name": "stdout",
          "text": [
            "unique_movie_titles: [b\"'Til There Was You (1997)\" b'1-900 (1994)' b'101 Dalmatians (1996)'\n",
            " b'12 Angry Men (1957)' b'187 (1997)']\n",
            "unique_user_ids: [b'1' b'10' b'100' b'101' b'102']\n"
          ]
        }
      ]
    },
    {
      "cell_type": "code",
      "metadata": {
        "id": "mr8VHWCl2bKt"
      },
      "source": [
        "embedding_dimension = 32 # increase this for more complexity"
      ],
      "execution_count": 14,
      "outputs": []
    },
    {
      "cell_type": "code",
      "metadata": {
        "id": "8UeoMYfl2bIK"
      },
      "source": [
        "# query tower\n",
        "user_model = tf.keras.Sequential([\n",
        "    tf.keras.layers.experimental.preprocessing.StringLookup(\n",
        "        vocabulary=unique_user_ids, mask_token=None\n",
        "    ),\n",
        "    # we add additional embedding to account for unknown tokens\n",
        "    tf.keras.layers.Embedding(len(unique_user_ids)+1, embedding_dimension)\n",
        "])"
      ],
      "execution_count": 15,
      "outputs": []
    },
    {
      "cell_type": "code",
      "metadata": {
        "id": "eOrI7Fux_NES"
      },
      "source": [
        "# candidate tower\n",
        "movie_model = tf.keras.Sequential([\n",
        "    tf.keras.layers.experimental.preprocessing.StringLookup(\n",
        "        vocabulary=unique_movie_titles, mask_token=None\n",
        "    ),\n",
        "    tf.keras.layers.Embedding(len(unique_movie_titles)+1, embedding_dimension)\n",
        "])"
      ],
      "execution_count": 16,
      "outputs": []
    },
    {
      "cell_type": "code",
      "metadata": {
        "id": "LeLEHZ7S_NAd"
      },
      "source": [
        "# metrics\n",
        "metrics = tfrs.metrics.FactorizedTopK(\n",
        "    candidates = movies.batch(128).map(movie_model)\n",
        ")"
      ],
      "execution_count": 17,
      "outputs": []
    },
    {
      "cell_type": "code",
      "metadata": {
        "colab": {
          "base_uri": "https://localhost:8080/"
        },
        "id": "h4owVn9f_M-H",
        "outputId": "47489c77-0419-4681-c24c-7c29ea85ec00"
      },
      "source": [
        "metrics"
      ],
      "execution_count": 18,
      "outputs": [
        {
          "output_type": "execute_result",
          "data": {
            "text/plain": [
              "<tensorflow_recommenders.metrics.factorized_top_k.FactorizedTopK at 0x7f9860d32850>"
            ]
          },
          "metadata": {},
          "execution_count": 18
        }
      ]
    },
    {
      "cell_type": "code",
      "metadata": {
        "id": "Cg0_fRCTMb_e"
      },
      "source": [
        "task = tfrs.tasks.Retrieval(\n",
        "    metrics=metrics\n",
        ")"
      ],
      "execution_count": 19,
      "outputs": []
    },
    {
      "cell_type": "code",
      "metadata": {
        "id": "iX83SeoO_M7W"
      },
      "source": [
        "# full model\n",
        "class MovielensModel(tfrs.Model):\n",
        "  def __init__(self, user_model, movie_model):\n",
        "    super().__init__()\n",
        "    self.user_model: tf.keras.Model = user_model\n",
        "    self.movie_model: tf.keras.Model = movie_model\n",
        "    self.task: tf.keras.layers.Layer = task\n",
        "  \n",
        "  def compute_loss(self, features: Dict[Text, tf.Tensor] , training=False) -> tf.Tensor:\n",
        "    user_embedding = self.user_model(features[\"user_id\"])\n",
        "    positive_movie_embedding = self.movie_model(features[\"movie_title\"])\n",
        "    return self.task(user_embedding, positive_movie_embedding)"
      ],
      "execution_count": 20,
      "outputs": []
    },
    {
      "cell_type": "code",
      "metadata": {
        "id": "jGWdGlEy_M4h"
      },
      "source": [
        "model = MovielensModel(user_model, movie_model)\n",
        "model.compile(optimizer=tf.keras.optimizers.Adagrad(learning_rate=0.1))"
      ],
      "execution_count": 22,
      "outputs": []
    },
    {
      "cell_type": "code",
      "metadata": {
        "id": "NZMF-5wI2bF9"
      },
      "source": [
        "cached_train = train.shuffle(100_000).batch(8192).cache()\n",
        "cached_test = test.batch(4096).cache()"
      ],
      "execution_count": 23,
      "outputs": []
    },
    {
      "cell_type": "code",
      "metadata": {
        "colab": {
          "base_uri": "https://localhost:8080/"
        },
        "id": "MHLo3n-62bDE",
        "outputId": "e251f54a-5457-4234-9e31-711a99baeb9e"
      },
      "source": [
        "model.fit(cached_train, epochs=3)"
      ],
      "execution_count": 24,
      "outputs": [
        {
          "output_type": "stream",
          "name": "stdout",
          "text": [
            "Epoch 1/3\n",
            "10/10 [==============================] - 28s 2s/step - factorized_top_k/top_1_categorical_accuracy: 3.2500e-04 - factorized_top_k/top_5_categorical_accuracy: 0.0040 - factorized_top_k/top_10_categorical_accuracy: 0.0107 - factorized_top_k/top_50_categorical_accuracy: 0.0770 - factorized_top_k/top_100_categorical_accuracy: 0.1516 - loss: 69896.7550 - regularization_loss: 0.0000e+00 - total_loss: 69896.7550\n",
            "Epoch 2/3\n",
            "10/10 [==============================] - 26s 3s/step - factorized_top_k/top_1_categorical_accuracy: 0.0024 - factorized_top_k/top_5_categorical_accuracy: 0.0163 - factorized_top_k/top_10_categorical_accuracy: 0.0342 - factorized_top_k/top_50_categorical_accuracy: 0.1594 - factorized_top_k/top_100_categorical_accuracy: 0.2831 - loss: 67562.6705 - regularization_loss: 0.0000e+00 - total_loss: 67562.6705\n",
            "Epoch 3/3\n",
            "10/10 [==============================] - 24s 2s/step - factorized_top_k/top_1_categorical_accuracy: 0.0030 - factorized_top_k/top_5_categorical_accuracy: 0.0216 - factorized_top_k/top_10_categorical_accuracy: 0.0440 - factorized_top_k/top_50_categorical_accuracy: 0.1856 - factorized_top_k/top_100_categorical_accuracy: 0.3149 - loss: 66310.6214 - regularization_loss: 0.0000e+00 - total_loss: 66310.6214\n"
          ]
        },
        {
          "output_type": "execute_result",
          "data": {
            "text/plain": [
              "<keras.callbacks.History at 0x7f98633e4dd0>"
            ]
          },
          "metadata": {},
          "execution_count": 24
        }
      ]
    },
    {
      "cell_type": "code",
      "metadata": {
        "colab": {
          "base_uri": "https://localhost:8080/"
        },
        "id": "0Tfgfrlf2bAx",
        "outputId": "11d9e269-aea3-4c9a-b3cd-fee9d2979565"
      },
      "source": [
        "model.evaluate(cached_test, return_dict=True) # performance need to be improved"
      ],
      "execution_count": 25,
      "outputs": [
        {
          "output_type": "stream",
          "name": "stdout",
          "text": [
            "5/5 [==============================] - 8s 920ms/step - factorized_top_k/top_1_categorical_accuracy: 0.0046 - factorized_top_k/top_5_categorical_accuracy: 0.0270 - factorized_top_k/top_10_categorical_accuracy: 0.0526 - factorized_top_k/top_50_categorical_accuracy: 0.2050 - factorized_top_k/top_100_categorical_accuracy: 0.3334 - loss: 30292.2142 - regularization_loss: 0.0000e+00 - total_loss: 30292.2142\n"
          ]
        },
        {
          "output_type": "execute_result",
          "data": {
            "text/plain": [
              "{'factorized_top_k/top_100_categorical_accuracy': 0.3333500027656555,\n",
              " 'factorized_top_k/top_10_categorical_accuracy': 0.05260000005364418,\n",
              " 'factorized_top_k/top_1_categorical_accuracy': 0.004550000187009573,\n",
              " 'factorized_top_k/top_50_categorical_accuracy': 0.2049500048160553,\n",
              " 'factorized_top_k/top_5_categorical_accuracy': 0.027049999684095383,\n",
              " 'loss': 27503.27734375,\n",
              " 'regularization_loss': 0,\n",
              " 'total_loss': 27503.27734375}"
            ]
          },
          "metadata": {},
          "execution_count": 25
        }
      ]
    },
    {
      "cell_type": "code",
      "metadata": {
        "colab": {
          "base_uri": "https://localhost:8080/"
        },
        "id": "tCe_aJmG2a-Q",
        "outputId": "78569dc3-68a9-4064-a694-29c35d2172e8"
      },
      "source": [
        "index = tfrs.layers.factorized_top_k.BruteForce(model.user_model)\n",
        "\n",
        "index.index_from_dataset(\n",
        "    tf.data.Dataset.zip((movies.batch(100), movies.batch(100).map(model.movie_model)))\n",
        ")"
      ],
      "execution_count": 27,
      "outputs": [
        {
          "output_type": "execute_result",
          "data": {
            "text/plain": [
              "<tensorflow_recommenders.layers.factorized_top_k.BruteForce at 0x7f98885c0690>"
            ]
          },
          "metadata": {},
          "execution_count": 27
        }
      ]
    },
    {
      "cell_type": "code",
      "metadata": {
        "colab": {
          "base_uri": "https://localhost:8080/"
        },
        "id": "ns741oe02a7u",
        "outputId": "204e6fa1-13c9-4774-ac19-34645058b295"
      },
      "source": [
        "_, titles = index(tf.constant([\"42\"]))\n",
        "print(f'recommendation for user with id 42 is {titles[0,:3]}')"
      ],
      "execution_count": 28,
      "outputs": [
        {
          "output_type": "stream",
          "name": "stdout",
          "text": [
            "recommendation for user with id 42 is [b\"Kid in King Arthur's Court, A (1995)\" b'Rudy (1993)'\n",
            " b'Old Yeller (1957)']\n"
          ]
        }
      ]
    },
    {
      "cell_type": "code",
      "metadata": {
        "id": "6ZmHiGf82a5P"
      },
      "source": [
        ""
      ],
      "execution_count": null,
      "outputs": []
    },
    {
      "cell_type": "code",
      "metadata": {
        "id": "y0rd9vFQ2a2p"
      },
      "source": [
        ""
      ],
      "execution_count": null,
      "outputs": []
    }
  ]
}